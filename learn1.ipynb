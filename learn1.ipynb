{
  "nbformat": 4,
  "nbformat_minor": 0,
  "metadata": {
    "colab": {
      "provenance": [],
      "history_visible": true,
      "collapsed_sections": [],
      "authorship_tag": "ABX9TyOp42dwDXiZrqAU7BpIdIQS",
      "include_colab_link": true
    },
    "kernelspec": {
      "name": "python3",
      "display_name": "Python 3"
    },
    "language_info": {
      "name": "python"
    }
  },
  "cells": [
    {
      "cell_type": "markdown",
      "metadata": {
        "id": "view-in-github",
        "colab_type": "text"
      },
      "source": [
        "<a href=\"https://colab.research.google.com/github/AlexTran1703/Intro_Machine_Learning/blob/Lab1_Intro-to-Google-Colab/learn1.ipynb\" target=\"_parent\"><img src=\"https://colab.research.google.com/assets/colab-badge.svg\" alt=\"Open In Colab\"/></a>"
      ]
    },
    {
      "cell_type": "code",
      "execution_count": null,
      "metadata": {
        "id": "z40g9j38ZCHg"
      },
      "outputs": [],
      "source": [
        "import tensorflow as tf\n",
        "import numpy as np\n",
        "from tensorflow import keras"
      ]
    },
    {
      "cell_type": "code",
      "source": [
        "model = tf.keras.Sequential([keras.layers.Dense(units=1, input_shape=[1])])\n",
        "model.compile(optimizer='sgd', loss='mean_squared_error')\n",
        "\n"
      ],
      "metadata": {
        "id": "J_KChWXWZFtR"
      },
      "execution_count": null,
      "outputs": []
    },
    {
      "cell_type": "code",
      "source": [
        "xs = np.array([-1.0, 0.0, 1.0, 2.0, 3.0, 4.0], dtype=float)\n",
        "ys = np.array([-2.0, 1.0, 4.0, 7.0, 10.0, 13.0], dtype=float)\n",
        "model.fit(xs, ys, epochs=10)\n",
        "\n"
      ],
      "metadata": {
        "colab": {
          "base_uri": "https://localhost:8080/"
        },
        "id": "qorjrnvXZHnp",
        "outputId": "10936492-7c8e-496f-98ee-aec89e5c9807"
      },
      "execution_count": null,
      "outputs": [
        {
          "output_type": "stream",
          "name": "stdout",
          "text": [
            "Epoch 1/10\n",
            "1/1 [==============================] - 0s 491ms/step - loss: 18.7401\n",
            "Epoch 2/10\n",
            "1/1 [==============================] - 0s 8ms/step - loss: 14.7653\n",
            "Epoch 3/10\n",
            "1/1 [==============================] - 0s 8ms/step - loss: 11.6377\n",
            "Epoch 4/10\n",
            "1/1 [==============================] - 0s 11ms/step - loss: 9.1766\n",
            "Epoch 5/10\n",
            "1/1 [==============================] - 0s 8ms/step - loss: 7.2400\n",
            "Epoch 6/10\n",
            "1/1 [==============================] - 0s 9ms/step - loss: 5.7159\n",
            "Epoch 7/10\n",
            "1/1 [==============================] - 0s 10ms/step - loss: 4.5164\n",
            "Epoch 8/10\n",
            "1/1 [==============================] - 0s 9ms/step - loss: 3.5722\n",
            "Epoch 9/10\n",
            "1/1 [==============================] - 0s 9ms/step - loss: 2.8291\n",
            "Epoch 10/10\n",
            "1/1 [==============================] - 0s 8ms/step - loss: 2.2440\n"
          ]
        },
        {
          "output_type": "execute_result",
          "data": {
            "text/plain": [
              "<keras.callbacks.History at 0x7fdb4a21aa10>"
            ]
          },
          "metadata": {},
          "execution_count": 4
        }
      ]
    },
    {
      "cell_type": "code",
      "source": [
        "print(model.predict([10.0, 11.0, 22.0]))\n"
      ],
      "metadata": {
        "colab": {
          "base_uri": "https://localhost:8080/"
        },
        "id": "_q-uEOODZSzi",
        "outputId": "d4350d9c-1782-4a66-845f-a92440b4743a"
      },
      "execution_count": null,
      "outputs": [
        {
          "output_type": "stream",
          "name": "stdout",
          "text": [
            "1/1 [==============================] - 0s 85ms/step\n",
            "[[26.511086]\n",
            " [29.118895]\n",
            " [57.8048  ]]\n"
          ]
        }
      ]
    },
    {
      "cell_type": "code",
      "source": [],
      "metadata": {
        "id": "RiOxBhavcYR_"
      },
      "execution_count": null,
      "outputs": []
    }
  ]
}